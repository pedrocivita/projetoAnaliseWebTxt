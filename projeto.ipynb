{
 "cells": [
  {
   "cell_type": "markdown",
   "id": "78422039",
   "metadata": {},
   "source": [
    "# Análise de Ações da S&P 500: Cotação + Notícias\n",
    "\n",
    "**Objetivo**  \n",
    "Dado um ticker de empresa listada na S&P 500, extrair:\n",
    "1. Nome da empresa  \n",
    "2. Cotação atual  \n",
    "3. Últimas _n_ notícias (título e resumo)  \n",
    "\n",
    "E depois fazer uma análise simples (comprimento dos títulos, frequência de palavras nos resumos).\n"
   ]
  },
  {
   "cell_type": "markdown",
   "id": "b04c8416",
   "metadata": {},
   "source": [
    "## Introdução\n",
    "\n",
    "Neste notebook vamos demonstrar como extrair, de forma totalmente automatizada, \n",
    "a cotação atual de qualquer ação da S&P 500 diretamente do Yahoo Finance, \n",
    "e em seguida fazer _web-scraping_ das últimas notícias relacionadas a essa empresa, \n",
    "também no Yahoo. Finalmente, faremos uma pequena análise exploratória de texto.\n"
   ]
  },
  {
   "cell_type": "code",
   "execution_count": 92,
   "id": "8b93b7f5",
   "metadata": {},
   "outputs": [],
   "source": [
    "import requests\n",
    "from bs4 import BeautifulSoup\n",
    "import pandas as pd\n",
    "import matplotlib.pyplot as plt\n",
    "import re\n",
    "\n",
    "%matplotlib inline\n",
    "\n",
    "HEADERS = {\"User-Agent\": \"Mozilla/5.0 (Windows NT 10.0; Win64; x64)\"}"
   ]
  },
  {
   "cell_type": "markdown",
   "id": "79b4b32a",
   "metadata": {},
   "source": [
    "## Metodologia\n",
    "\n",
    "1. Montar URL base do Yahoo Finance:  \n",
    "   `https://finance.yahoo.com/quote/{ticker}`  \n",
    "2. Fazer `requests.get` e parsear com BeautifulSoup.  \n",
    "3. Extrair:\n",
    "   - **Nome da empresa** no `<h1>` do topo.\n",
    "   - **Preço atual** no primeiro `<fin-streamer data-field=\"regularMarketPrice\">`.\n",
    "   - **Notícias**: nos primeiros `<li>` de classe `js-stream-content`, pegar `<h3>` (título) e `<p>` (resumo).\n",
    "4. Consolidar em um `dict` + `DataFrame`.\n",
    "5. Análise simples: histogramas e _word cloud_.\n"
   ]
  },
  {
   "cell_type": "code",
   "execution_count": 93,
   "id": "64444de2",
   "metadata": {},
   "outputs": [],
   "source": [
    "def fetch_page(ticker: str) -> BeautifulSoup:\n",
    "    url = f\"https://finance.yahoo.com/quote/{ticker}\"\n",
    "    print(f\"→ Fetching URL: {url}\")\n",
    "    r = requests.get(url, headers=HEADERS)\n",
    "    r.raise_for_status()\n",
    "    return BeautifulSoup(r.text, \"html.parser\")\n",
    "\n",
    "def get_company_name(soup: BeautifulSoup) -> str:\n",
    "    h1 = soup.select_one(\"#quote-header-info h1\")\n",
    "    return h1.text.strip() if h1 else None\n",
    "\n",
    "# — Cell: extração de preço atual —\n",
    "def get_current_price(soup):\n",
    "    # procura a tag que contém o preço\n",
    "    tag = soup.find(\"fin-streamer\", {\"data-field\": \"regularMarketPrice\"})\n",
    "    if not tag:\n",
    "        return None\n",
    "    # remove vírgulas de milhares e faz strip\n",
    "    txt = tag.text.strip().replace(\",\", \"\")\n",
    "    try:\n",
    "        return float(txt)\n",
    "    except ValueError:\n",
    "        return None\n",
    "\n",
    "\n",
    "def get_latest_news(ticker: str, n: int = 5) -> pd.DataFrame:\n",
    "    rss_url = (\n",
    "        \"https://feeds.finance.yahoo.com/rss/2.0/headline\"\n",
    "        f\"?s={ticker}&region=US&lang=en-US\"\n",
    "    )\n",
    "    r = requests.get(rss_url, headers=HEADERS)\n",
    "    r.raise_for_status()\n",
    "    xml = BeautifulSoup(r.text, \"xml\")\n",
    "    items = xml.find_all(\"item\")[:n]\n",
    "    dados = []\n",
    "    for it in items:\n",
    "        dados.append({\n",
    "            \"titulo\":  it.title.text.strip(),\n",
    "            \"resumo\":  it.description.text.strip()\n",
    "        })\n",
    "    df = pd.DataFrame(dados, columns=[\"titulo\",\"resumo\"])\n",
    "    return df\n",
    "\n",
    "def analyze_stock(ticker: str, n_news: int = 5) -> dict:\n",
    "    soup = fetch_page(ticker)\n",
    "    return {\n",
    "        \"ticker\":      ticker,\n",
    "        \"nome\":        get_company_name(soup),\n",
    "        \"preco_atual\": get_current_price(soup),\n",
    "        \"noticias\":    get_latest_news(ticker, n=n_news)\n",
    "    }\n",
    "\n"
   ]
  },
  {
   "cell_type": "code",
   "execution_count": 94,
   "id": "20089c9b",
   "metadata": {},
   "outputs": [
    {
     "name": "stdout",
     "output_type": "stream",
     "text": [
      "→ Fetching URL: https://finance.yahoo.com/quote/AAPL\n",
      "None (AAPL) → Cotação: 5663.94\n"
     ]
    },
    {
     "data": {
      "text/html": [
       "<div>\n",
       "<style scoped>\n",
       "    .dataframe tbody tr th:only-of-type {\n",
       "        vertical-align: middle;\n",
       "    }\n",
       "\n",
       "    .dataframe tbody tr th {\n",
       "        vertical-align: top;\n",
       "    }\n",
       "\n",
       "    .dataframe thead th {\n",
       "        text-align: right;\n",
       "    }\n",
       "</style>\n",
       "<table border=\"1\" class=\"dataframe\">\n",
       "  <thead>\n",
       "    <tr style=\"text-align: right;\">\n",
       "      <th></th>\n",
       "      <th>titulo</th>\n",
       "      <th>resumo</th>\n",
       "    </tr>\n",
       "  </thead>\n",
       "  <tbody>\n",
       "    <tr>\n",
       "      <th>0</th>\n",
       "      <td>One of the Largest Teacher Pension Funds in the U.S. Sold Nvidia, Tesla, and Apple and Piled Into a Popular Pharmaceutical Stock Up 395% Over the Last 5 Years</td>\n",
       "      <td>It's always a good idea for retail investors to take a look at what professional investors are doing.  With the second quarter of 2025 now over a month old, many investment funds will soon begin d...</td>\n",
       "    </tr>\n",
       "    <tr>\n",
       "      <th>1</th>\n",
       "      <td>Apple Developing Watch-Based Chip for Smart Glasses</td>\n",
       "      <td>Mass production slated for 2026--27 as AAPL expands silicon into wearables</td>\n",
       "    </tr>\n",
       "    <tr>\n",
       "      <th>2</th>\n",
       "      <td>Apple Has 20 Billion Reasons to Talk Down Google Search</td>\n",
       "      <td>Apple has plenty at stake in the landmark U.S. vs Google antitrust trial, starting with $20 billion in profit-rich revenue.</td>\n",
       "    </tr>\n",
       "    <tr>\n",
       "      <th>3</th>\n",
       "      <td>The Dow climbed 250 points as Trump announced a U.K. trade deal</td>\n",
       "      <td>U.S. stocks rose on Thursday, with major indexes climbing. Tech led the day’s rally, and the Nasdaq closed up slightly over 1%.</td>\n",
       "    </tr>\n",
       "    <tr>\n",
       "      <th>4</th>\n",
       "      <td>Google Had a Bad Week. Why We’re Sticking With Alphabet Stock.</td>\n",
       "      <td>Shares plunged on fears of search disruption. That doesn’t mean the company isn’t prepared for change.</td>\n",
       "    </tr>\n",
       "  </tbody>\n",
       "</table>\n",
       "</div>"
      ],
      "text/plain": [
       "                                                                                                                                                           titulo  \\\n",
       "0  One of the Largest Teacher Pension Funds in the U.S. Sold Nvidia, Tesla, and Apple and Piled Into a Popular Pharmaceutical Stock Up 395% Over the Last 5 Years   \n",
       "1                                                                                                             Apple Developing Watch-Based Chip for Smart Glasses   \n",
       "2                                                                                                         Apple Has 20 Billion Reasons to Talk Down Google Search   \n",
       "3                                                                                                 The Dow climbed 250 points as Trump announced a U.K. trade deal   \n",
       "4                                                                                                  Google Had a Bad Week. Why We’re Sticking With Alphabet Stock.   \n",
       "\n",
       "                                                                                                                                                                                                    resumo  \n",
       "0  It's always a good idea for retail investors to take a look at what professional investors are doing.  With the second quarter of 2025 now over a month old, many investment funds will soon begin d...  \n",
       "1                                                                                                                               Mass production slated for 2026--27 as AAPL expands silicon into wearables  \n",
       "2                                                                              Apple has plenty at stake in the landmark U.S. vs Google antitrust trial, starting with $20 billion in profit-rich revenue.  \n",
       "3                                                                          U.S. stocks rose on Thursday, with major indexes climbing. Tech led the day’s rally, and the Nasdaq closed up slightly over 1%.  \n",
       "4                                                                                                   Shares plunged on fears of search disruption. That doesn’t mean the company isn’t prepared for change.  "
      ]
     },
     "execution_count": 94,
     "metadata": {},
     "output_type": "execute_result"
    }
   ],
   "source": [
    "res = analyze_stock(\"AAPL\", n_news=5)\n",
    "print(f\"{res['nome']} ({res['ticker']}) → Cotação: {res['preco_atual']}\")\n",
    "res[\"noticias\"]\n"
   ]
  },
  {
   "cell_type": "markdown",
   "id": "606eae64",
   "metadata": {},
   "source": [
    "## Extração para vários tickers\n",
    "\n",
    "Você pode carregar uma lista de tickers da S&P 500 (ex: CSV oficial) ou usar um subset manual abaixo."
   ]
  },
  {
   "cell_type": "code",
   "execution_count": 95,
   "id": "4b7990fb",
   "metadata": {},
   "outputs": [
    {
     "name": "stdout",
     "output_type": "stream",
     "text": [
      "→ Fetching URL: https://finance.yahoo.com/quote/AAPL\n",
      "→ Fetching URL: https://finance.yahoo.com/quote/MSFT\n",
      "→ Fetching URL: https://finance.yahoo.com/quote/GOOGL\n"
     ]
    },
    {
     "data": {
      "text/html": [
       "<div>\n",
       "<style scoped>\n",
       "    .dataframe tbody tr th:only-of-type {\n",
       "        vertical-align: middle;\n",
       "    }\n",
       "\n",
       "    .dataframe tbody tr th {\n",
       "        vertical-align: top;\n",
       "    }\n",
       "\n",
       "    .dataframe thead th {\n",
       "        text-align: right;\n",
       "    }\n",
       "</style>\n",
       "<table border=\"1\" class=\"dataframe\">\n",
       "  <thead>\n",
       "    <tr style=\"text-align: right;\">\n",
       "      <th></th>\n",
       "      <th>ticker</th>\n",
       "      <th>nome</th>\n",
       "      <th>preco_atual</th>\n",
       "    </tr>\n",
       "  </thead>\n",
       "  <tbody>\n",
       "    <tr>\n",
       "      <th>0</th>\n",
       "      <td>AAPL</td>\n",
       "      <td>None</td>\n",
       "      <td>5663.94</td>\n",
       "    </tr>\n",
       "    <tr>\n",
       "      <th>1</th>\n",
       "      <td>MSFT</td>\n",
       "      <td>None</td>\n",
       "      <td>5663.94</td>\n",
       "    </tr>\n",
       "    <tr>\n",
       "      <th>2</th>\n",
       "      <td>GOOGL</td>\n",
       "      <td>None</td>\n",
       "      <td>5663.94</td>\n",
       "    </tr>\n",
       "  </tbody>\n",
       "</table>\n",
       "</div>"
      ],
      "text/plain": [
       "  ticker  nome  preco_atual\n",
       "0   AAPL  None      5663.94\n",
       "1   MSFT  None      5663.94\n",
       "2  GOOGL  None      5663.94"
      ]
     },
     "execution_count": 95,
     "metadata": {},
     "output_type": "execute_result"
    }
   ],
   "source": [
    "tickers = [\"AAPL\", \"MSFT\", \"GOOGL\"]\n",
    "todos = [analyze_stock(t, n_news=3) for t in tickers]\n",
    "\n",
    "df_prices = pd.DataFrame([\n",
    "    {\"ticker\": r[\"ticker\"], \"nome\": r[\"nome\"], \"preco_atual\": r[\"preco_atual\"]}\n",
    "    for r in todos\n",
    "])\n",
    "df_prices"
   ]
  },
  {
   "cell_type": "markdown",
   "id": "9d2ac988",
   "metadata": {},
   "source": [
    "## Análise exploratória de texto\n",
    "\n",
    "Vamos ver o comprimento dos títulos e as palavras mais frequentes nos resumos.\n"
   ]
  },
  {
   "cell_type": "code",
   "execution_count": 96,
   "id": "51a7175d",
   "metadata": {},
   "outputs": [
    {
     "data": {
      "image/png": "[encoded data removed]",
      "text/plain": [
       "<Figure size 600x300 with 1 Axes>"
      ]
     },
     "metadata": {},
     "output_type": "display_data"
    }
   ],
   "source": [
    "df_news = pd.concat([r[\"noticias\"] for r in todos], ignore_index=True)\n",
    "\n",
    "# Garante coluna mesmo vazia\n",
    "if \"titulo\" not in df_news:\n",
    "    df_news[\"titulo\"] = []\n",
    "\n",
    "lengths = df_news[\"titulo\"].str.len()\n",
    "plt.figure(figsize=(6,3))\n",
    "plt.hist(lengths.dropna(), bins=8, edgecolor=\"k\")\n",
    "plt.title(\"Comprimento dos Títulos\")\n",
    "plt.xlabel(\"Nº caracteres\")\n",
    "plt.ylabel(\"Frequência\")\n",
    "plt.show()\n"
   ]
  },
  {
   "cell_type": "markdown",
   "id": "b955cc52",
   "metadata": {},
   "source": []
  },
  {
   "cell_type": "code",
   "execution_count": 97,
   "id": "9f98e5d2",
   "metadata": {},
   "outputs": [
    {
     "data": {
      "image/png": "[encoded data removed]",
      "text/plain": [
       "<Figure size 600x500 with 1 Axes>"
      ]
     },
     "metadata": {},
     "output_type": "display_data"
    }
   ],
   "source": [
    "from collections import Counter\n",
    "\n",
    "text = \" \".join(df_news[\"resumo\"].dropna()).lower()\n",
    "tokens = re.findall(r\"[a-zà-ú]{3,}\", text)\n",
    "# — Cell: definição de stop-words —\n",
    "stop = set([\n",
    "    # inglês\n",
    "    \"the\",\"for\",\"and\",\"they\",\"a\",\"an\",\"in\",\"to\",\"with\",\"on\",\"of\",\"is\",\n",
    "    \"at\",\"that\",\"this\",\"it\",\"by\",\"from\",\"as\",\"be\",\"are\",\"not\",\"or\",\"but\",\n",
    "    # português (se ainda quiser filtrar algumas)\n",
    "    \"uma\",\"como\",\"dos\",\"das\",\"este\",\"essa\"\n",
    "])\n",
    "\n",
    "words  = [w for w in tokens if w not in stop]\n",
    "\n",
    "freq = Counter(words)\n",
    "top20 = dict(freq.most_common(20))\n",
    "\n",
    "plt.figure(figsize=(6,5))\n",
    "(pd.Series(top20)\n",
    "   .sort_values()\n",
    "   .plot.barh())\n",
    "plt.title(\"Top-20 palavras nos resumos\")\n",
    "plt.xlabel(\"Frequência\")\n",
    "plt.show()\n",
    "\n"
   ]
  },
  {
   "cell_type": "markdown",
   "id": "34239e16",
   "metadata": {},
   "source": [
    "## Conclusão\n",
    "\n",
    "- Extraímos nome, preço e notícias de qualquer ação da S&P 500 usando só requests+BS4.  \n",
    "- Vimos como histogramas e contagem de palavras dão insight rápido sobre o texto.  \n",
    "- Em próximos passos, poderíamos adicionar análise de sentimento, séries históricas de preço, etc.\n"
   ]
  }
 ],
 "metadata": {
  "kernelspec": {
   "display_name": "Python 3",
   "language": "python",
   "name": "python3"
  },
  "language_info": {
   "codemirror_mode": {
    "name": "ipython",
    "version": 3
   },
   "file_extension": ".py",
   "mimetype": "text/x-python",
   "name": "python",
   "nbconvert_exporter": "python",
   "pygments_lexer": "ipython3",
   "version": "3.12.4"
  }
 },
 "nbformat": 4,
 "nbformat_minor": 5
}
