{
 "cells": [
  {
   "cell_type": "markdown",
   "id": "78422039",
   "metadata": {},
   "source": [
    "# Análise de Ações da S&P 500: Cotação + Notícias\n",
    "Contribuidores: Felipe Trintim, Gabriel Mine, Pedro Civita \n",
    "\n",
    "**Objetivo**  \n",
    "Dado um ticker de empresa listada na S&P 500, extrair:\n",
    "1. Nome da empresa  \n",
    "2. Cotação atual  \n",
    "3. Últimas _n_ notícias (título e resumo)  \n",
    "\n",
    "E depois fazer uma análise simples (comprimento dos títulos, frequência de palavras nos resumos).\n"
   ]
  },
  {
   "cell_type": "markdown",
   "id": "b04c8416",
   "metadata": {},
   "source": [
    "## Introdução\n",
    "\n",
    "Neste notebook vamos demonstrar como extrair, de forma totalmente automatizada, \n",
    "a cotação atual de qualquer ação da S&P 500 diretamente do Yahoo Finance, \n",
    "e em seguida fazer _web-scraping_ das últimas notícias relacionadas a essa empresa, \n",
    "também no Yahoo. Finalmente, faremos uma pequena análise exploratória de texto.\n"
   ]
  },
  {
   "cell_type": "code",
   "execution_count": 1,
   "id": "8b93b7f5",
   "metadata": {},
   "outputs": [],
   "source": [
    "import requests\n",
    "from bs4 import BeautifulSoup\n",
    "import pandas as pd\n",
    "import matplotlib.pyplot as plt\n",
    "import re\n",
    "\n",
    "%matplotlib inline\n",
    "\n",
    "HEADERS = {\"User-Agent\": \"Mozilla/5.0 (Windows NT 10.0; Win64; x64)\"}"
   ]
  },
  {
   "cell_type": "markdown",
   "id": "79b4b32a",
   "metadata": {},
   "source": [
    "## Metodologia\n",
    "\n",
    "1. Montar URL base do Yahoo Finance:  \n",
    "   `https://finance.yahoo.com/quote/{ticker}`  \n",
    "2. Fazer `requests.get` e parsear com BeautifulSoup.  \n",
    "3. Extrair:\n",
    "   - **Nome da empresa** no `<h1>` do topo.\n",
    "   - **Preço atual** no primeiro `<fin-streamer data-field=\"regularMarketPrice\">`.\n",
    "   - **Notícias**: nos primeiros `<li>` de classe `js-stream-content`, pegar `<h3>` (título) e `<p>` (resumo).\n",
    "4. Consolidar em um `dict` + `DataFrame`.\n",
    "5. Análise simples: histogramas e _word cloud_.\n"
   ]
  },
  {
   "cell_type": "code",
   "execution_count": 2,
   "id": "64444de2",
   "metadata": {},
   "outputs": [],
   "source": [
    "def fetch_page(ticker: str) -> BeautifulSoup:\n",
    "    url = f\"https://finance.yahoo.com/quote/{ticker}\"\n",
    "    print(f\"→ Fetching URL: {url}\")\n",
    "    r = requests.get(url, headers=HEADERS)\n",
    "    r.raise_for_status()\n",
    "    return BeautifulSoup(r.text, \"html.parser\")\n",
    "\n",
    "def get_company_name(soup: BeautifulSoup) -> str:\n",
    "    h1 = soup.select_one(\"#quote-header-info h1\")\n",
    "    return h1.text.strip() if h1 else None\n",
    "\n",
    "# — Cell: extração de preço atual —\n",
    "def get_current_price(soup):\n",
    "    # procura a tag que contém o preço\n",
    "    tag = soup.find(\"fin-streamer\", {\"data-field\": \"regularMarketPrice\"})\n",
    "    if not tag:\n",
    "        return None\n",
    "    # remove vírgulas de milhares e faz strip\n",
    "    txt = tag.text.strip().replace(\",\", \"\")\n",
    "    try:\n",
    "        return float(txt)\n",
    "    except ValueError:\n",
    "        return None\n",
    "\n",
    "\n",
    "def get_latest_news(ticker: str, n: int = 5) -> pd.DataFrame:\n",
    "    rss_url = (\n",
    "        \"https://feeds.finance.yahoo.com/rss/2.0/headline\"\n",
    "        f\"?s={ticker}&region=US&lang=en-US\"\n",
    "    )\n",
    "    r = requests.get(rss_url, headers=HEADERS)\n",
    "    r.raise_for_status()\n",
    "    xml = BeautifulSoup(r.text, \"xml\")\n",
    "    items = xml.find_all(\"item\")[:n]\n",
    "    dados = []\n",
    "    for it in items:\n",
    "        dados.append({\n",
    "            \"titulo\":  it.title.text.strip(),\n",
    "            \"resumo\":  it.description.text.strip()\n",
    "        })\n",
    "    df = pd.DataFrame(dados, columns=[\"titulo\",\"resumo\"])\n",
    "    return df\n",
    "\n",
    "def analyze_stock(ticker: str, n_news: int = 5) -> dict:\n",
    "    soup = fetch_page(ticker)\n",
    "    return {\n",
    "        \"ticker\":      ticker,\n",
    "        \"nome\":        get_company_name(soup),\n",
    "        \"preco_atual\": get_current_price(soup),\n",
    "        \"noticias\":    get_latest_news(ticker, n=n_news)\n",
    "    }\n",
    "\n"
   ]
  },
  {
   "cell_type": "code",
   "execution_count": 3,
   "id": "20089c9b",
   "metadata": {},
   "outputs": [
    {
     "name": "stdout",
     "output_type": "stream",
     "text": [
      "→ Fetching URL: https://finance.yahoo.com/quote/AAPL\n",
      "None (AAPL) → Cotação: 5707.25\n"
     ]
    },
    {
     "data": {
      "text/html": [
       "<div>\n",
       "<style scoped>\n",
       "    .dataframe tbody tr th:only-of-type {\n",
       "        vertical-align: middle;\n",
       "    }\n",
       "\n",
       "    .dataframe tbody tr th {\n",
       "        vertical-align: top;\n",
       "    }\n",
       "\n",
       "    .dataframe thead th {\n",
       "        text-align: right;\n",
       "    }\n",
       "</style>\n",
       "<table border=\"1\" class=\"dataframe\">\n",
       "  <thead>\n",
       "    <tr style=\"text-align: right;\">\n",
       "      <th></th>\n",
       "      <th>titulo</th>\n",
       "      <th>resumo</th>\n",
       "    </tr>\n",
       "  </thead>\n",
       "  <tbody>\n",
       "    <tr>\n",
       "      <th>0</th>\n",
       "      <td>Google Stock Had a Bad Week. Why We’re Stickin...</td>\n",
       "      <td>Shares plunged on fears of search disruption. ...</td>\n",
       "    </tr>\n",
       "    <tr>\n",
       "      <th>1</th>\n",
       "      <td>Latest News In Cloud AI - Multimodal AI Safety...</td>\n",
       "      <td>A recent report by Enkrypt AI highlights criti...</td>\n",
       "    </tr>\n",
       "    <tr>\n",
       "      <th>2</th>\n",
       "      <td>Google’s search dominance might not be in as m...</td>\n",
       "      <td>Apple says its seen a drop in search queries v...</td>\n",
       "    </tr>\n",
       "    <tr>\n",
       "      <th>3</th>\n",
       "      <td>What Apple, Amazon, GM And Other Companies Are...</td>\n",
       "      <td>Amazon, GM, Apple and other companies are prov...</td>\n",
       "    </tr>\n",
       "    <tr>\n",
       "      <th>4</th>\n",
       "      <td>1 Simple Reason That Alphabet Should Be Worth ...</td>\n",
       "      <td>Alphabet could be bigger than Microsoft or App...</td>\n",
       "    </tr>\n",
       "  </tbody>\n",
       "</table>\n",
       "</div>"
      ],
      "text/plain": [
       "                                              titulo  \\\n",
       "0  Google Stock Had a Bad Week. Why We’re Stickin...   \n",
       "1  Latest News In Cloud AI - Multimodal AI Safety...   \n",
       "2  Google’s search dominance might not be in as m...   \n",
       "3  What Apple, Amazon, GM And Other Companies Are...   \n",
       "4  1 Simple Reason That Alphabet Should Be Worth ...   \n",
       "\n",
       "                                              resumo  \n",
       "0  Shares plunged on fears of search disruption. ...  \n",
       "1  A recent report by Enkrypt AI highlights criti...  \n",
       "2  Apple says its seen a drop in search queries v...  \n",
       "3  Amazon, GM, Apple and other companies are prov...  \n",
       "4  Alphabet could be bigger than Microsoft or App...  "
      ]
     },
     "execution_count": 3,
     "metadata": {},
     "output_type": "execute_result"
    }
   ],
   "source": [
    "res = analyze_stock(\"AAPL\", n_news=5)\n",
    "print(f\"{res['nome']} ({res['ticker']}) → Cotação: {res['preco_atual']}\")\n",
    "res[\"noticias\"]\n"
   ]
  },
  {
   "cell_type": "markdown",
   "id": "606eae64",
   "metadata": {},
   "source": [
    "## Extração para vários tickers\n",
    "\n",
    "Você pode carregar uma lista de tickers da S&P 500 (ex: CSV oficial) ou usar um subset manual abaixo."
   ]
  },
  {
   "cell_type": "code",
   "execution_count": 4,
   "id": "4b7990fb",
   "metadata": {},
   "outputs": [
    {
     "name": "stdout",
     "output_type": "stream",
     "text": [
      "→ Fetching URL: https://finance.yahoo.com/quote/AAPL\n",
      "→ Fetching URL: https://finance.yahoo.com/quote/MSFT\n",
      "→ Fetching URL: https://finance.yahoo.com/quote/GOOGL\n"
     ]
    },
    {
     "data": {
      "text/html": [
       "<div>\n",
       "<style scoped>\n",
       "    .dataframe tbody tr th:only-of-type {\n",
       "        vertical-align: middle;\n",
       "    }\n",
       "\n",
       "    .dataframe tbody tr th {\n",
       "        vertical-align: top;\n",
       "    }\n",
       "\n",
       "    .dataframe thead th {\n",
       "        text-align: right;\n",
       "    }\n",
       "</style>\n",
       "<table border=\"1\" class=\"dataframe\">\n",
       "  <thead>\n",
       "    <tr style=\"text-align: right;\">\n",
       "      <th></th>\n",
       "      <th>ticker</th>\n",
       "      <th>nome</th>\n",
       "      <th>preco_atual</th>\n",
       "    </tr>\n",
       "  </thead>\n",
       "  <tbody>\n",
       "    <tr>\n",
       "      <th>0</th>\n",
       "      <td>AAPL</td>\n",
       "      <td>None</td>\n",
       "      <td>5707.25</td>\n",
       "    </tr>\n",
       "    <tr>\n",
       "      <th>1</th>\n",
       "      <td>MSFT</td>\n",
       "      <td>None</td>\n",
       "      <td>5707.50</td>\n",
       "    </tr>\n",
       "    <tr>\n",
       "      <th>2</th>\n",
       "      <td>GOOGL</td>\n",
       "      <td>None</td>\n",
       "      <td>5707.50</td>\n",
       "    </tr>\n",
       "  </tbody>\n",
       "</table>\n",
       "</div>"
      ],
      "text/plain": [
       "  ticker  nome  preco_atual\n",
       "0   AAPL  None      5707.25\n",
       "1   MSFT  None      5707.50\n",
       "2  GOOGL  None      5707.50"
      ]
     },
     "execution_count": 4,
     "metadata": {},
     "output_type": "execute_result"
    }
   ],
   "source": [
    "tickers = [\"AAPL\", \"MSFT\", \"GOOGL\"]\n",
    "todos = [analyze_stock(t, n_news=3) for t in tickers]\n",
    "\n",
    "df_prices = pd.DataFrame([\n",
    "    {\"ticker\": r[\"ticker\"], \"nome\": r[\"nome\"], \"preco_atual\": r[\"preco_atual\"]}\n",
    "    for r in todos\n",
    "])\n",
    "df_prices"
   ]
  },
  {
   "cell_type": "markdown",
   "id": "9d2ac988",
   "metadata": {},
   "source": [
    "## Análise exploratória de texto\n",
    "\n",
    "Vamos ver o comprimento dos títulos e as palavras mais frequentes nos resumos.\n"
   ]
  },
  {
   "cell_type": "code",
   "execution_count": 5,
   "id": "51a7175d",
   "metadata": {},
   "outputs": [
    {
     "data": {
      "image/png": "[encoded data removed]",
      "text/plain": [
       "<Figure size 600x300 with 1 Axes>"
      ]
     },
     "metadata": {},
     "output_type": "display_data"
    }
   ],
   "source": [
    "df_news = pd.concat([r[\"noticias\"] for r in todos], ignore_index=True)\n",
    "\n",
    "# Garante coluna mesmo vazia\n",
    "if \"titulo\" not in df_news:\n",
    "    df_news[\"titulo\"] = []\n",
    "\n",
    "lengths = df_news[\"titulo\"].str.len()\n",
    "plt.figure(figsize=(6,3))\n",
    "plt.hist(lengths.dropna(), bins=8, edgecolor=\"k\")\n",
    "plt.title(\"Comprimento dos Títulos\")\n",
    "plt.xlabel(\"Nº caracteres\")\n",
    "plt.ylabel(\"Frequência\")\n",
    "plt.show()\n"
   ]
  },
  {
   "cell_type": "markdown",
   "id": "b955cc52",
   "metadata": {},
   "source": []
  },
  {
   "cell_type": "code",
   "execution_count": 6,
   "id": "9f98e5d2",
   "metadata": {},
   "outputs": [
    {
     "data": {
      "image/png": "[encoded data removed]",
      "text/plain": [
       "<Figure size 600x500 with 1 Axes>"
      ]
     },
     "metadata": {},
     "output_type": "display_data"
    }
   ],
   "source": [
    "from collections import Counter\n",
    "\n",
    "text = \" \".join(df_news[\"resumo\"].dropna()).lower()\n",
    "tokens = re.findall(r\"[a-zà-ú]{3,}\", text)\n",
    "# — Cell: definição de stop-words —\n",
    "stop = set([\n",
    "    # inglês\n",
    "    \"the\",\"for\",\"and\",\"they\",\"a\",\"an\",\"in\",\"to\",\"with\",\"on\",\"of\",\"is\",\n",
    "    \"at\",\"that\",\"this\",\"it\",\"by\",\"from\",\"as\",\"be\",\"are\",\"not\",\"or\",\"but\",\n",
    "    # português (se ainda quiser filtrar algumas)\n",
    "    \"uma\",\"como\",\"dos\",\"das\",\"este\",\"essa\"\n",
    "])\n",
    "\n",
    "words  = [w for w in tokens if w not in stop]\n",
    "\n",
    "freq = Counter(words)\n",
    "top20 = dict(freq.most_common(20))\n",
    "\n",
    "plt.figure(figsize=(6,5))\n",
    "(pd.Series(top20)\n",
    "   .sort_values()\n",
    "   .plot.barh())\n",
    "plt.title(\"Top-20 palavras nos resumos\")\n",
    "plt.xlabel(\"Frequência\")\n",
    "plt.show()\n",
    "\n"
   ]
  },
  {
   "cell_type": "markdown",
   "id": "34239e16",
   "metadata": {},
   "source": [
    "## Conclusão\n",
    "\n",
    "- Extraímos nome, preço e notícias de qualquer ação da S&P 500 usando só requests+BS4.  \n",
    "- Vimos como histogramas e contagem de palavras dão insight rápido sobre o texto.  \n",
    "- Em próximos passos, poderíamos adicionar análise de sentimento, séries históricas de preço, etc.\n"
   ]
  },
  {
   "cell_type": "markdown",
   "id": "1c6d44c6",
   "metadata": {},
   "source": []
  }
 ],
 "metadata": {
  "kernelspec": {
   "display_name": "Python 3",
   "language": "python",
   "name": "python3"
  },
  "language_info": {
   "codemirror_mode": {
    "name": "ipython",
    "version": 3
   },
   "file_extension": ".py",
   "mimetype": "text/x-python",
   "name": "python",
   "nbconvert_exporter": "python",
   "pygments_lexer": "ipython3",
   "version": "3.11.3"
  }
 },
 "nbformat": 4,
 "nbformat_minor": 5
}
